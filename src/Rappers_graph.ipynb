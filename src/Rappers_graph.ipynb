{
 "cells": [
  {
   "cell_type": "code",
   "execution_count": 1,
   "id": "b2353fad",
   "metadata": {},
   "outputs": [],
   "source": [
    "import spotipy\n",
    "sp = spotipy.Spotify()\n",
    "from spotipy.oauth2 import SpotifyClientCredentials \n",
    "import spotipy.util as util\n",
    "from pprint import pprint\n",
    "import matplotlib.pyplot as plt \n",
    "import numpy as np\n",
    "import string\n",
    "\n",
    "cid =\"36748baa9fbd45e7885d6b90137a46a7\" \n",
    "secret = \"ad562808e82d4184a360347d848e050e\"\n",
    "spotify = spotipy.Spotify(client_credentials_manager=SpotifyClientCredentials(cid, secret))"
   ]
  },
  {
   "cell_type": "code",
   "execution_count": 7,
   "id": "9e030492",
   "metadata": {},
   "outputs": [],
   "source": [
    "marra = 'spotify:artist:5AZuEF0feCXMkUCwQiQlW7'\n",
    "gue =   'spotify:artist:7F2utINZ6tSokSiZTQBE27'\n",
    "jake =  'spotify:artist:6JFRI91YaCXREGQYzHSnUH'\n",
    "fedez = 'spotify:artist:3pgCLfNbw5ozIfoNsvDU7i'\n",
    "baby_gang = 'spotify:artist:3LvwPiJQJ0da0GurKMToV0'\n",
    "geolier = 'spotify:artist:27LlKWxS3KXW7RRAxN5S8s'\n",
    "tony = 'spotify:artist:6CKch2otN4SPznHf9ms5JF'\n",
    "parcels = 'spotigy:artist:3oKRxpszQKUjjaHz388fVA'"
   ]
  },
  {
   "cell_type": "code",
   "execution_count": 175,
   "id": "f5e53288",
   "metadata": {},
   "outputs": [],
   "source": [
    "marra_plot_clean= featuring_clean(marra)\n",
    "marra_plot= featuring(marra)\n",
    "gue_plot = featuring_clean(gue)\n",
    "fedez_plot = featuring_clean(fedez)\n",
    "jake_plot = featuring_clean(jake)\n",
    "geo_plot = featuring_clean(geolier)"
   ]
  },
  {
   "cell_type": "code",
   "execution_count": 5,
   "id": "a92e3b1b",
   "metadata": {},
   "outputs": [],
   "source": [
    "def clean_album(artist_id):\n",
    "    album_names = []\n",
    "    all_albums = spotify.artist_albums(artist_id, album_type='album')\n",
    "    \n",
    "    #uri delle vari album\n",
    "    for album in all_albums['items']:\n",
    "        album_names.append([album['name'], album['uri']])\n",
    "\n",
    "    rip = []\n",
    "    titles = []\n",
    "    for album in album_names:\n",
    "        titles.append([album[0].translate(str.maketrans('', '', string.punctuation)), album[1]])\n",
    "    titles.sort(key=lambda s: len(s[0]))\n",
    "    for i in range(len(titles)):\n",
    "        for b in range(len(titles)):\n",
    "            if(i < b):\n",
    "                if(set(titles[i][0].split(' ')).issubset(set(titles[b][0].split(' '))) == True):\n",
    "                    rip.append(b)\n",
    "    rip = list(set(rip))\n",
    "    for ele in sorted(rip, reverse = True):\n",
    "        del titles[ele]\n",
    "    return titles "
   ]
  },
  {
   "cell_type": "code",
   "execution_count": 4,
   "id": "62aa7b80",
   "metadata": {},
   "outputs": [],
   "source": [
    "def featuring_clean(artist_id):\n",
    "    album_uri = []\n",
    "    all_albums= clean_album(artist_id)\n",
    "    \n",
    "    #uri delle vari album\n",
    "    for album in all_albums:\n",
    "        album_uri.append(album[1])\n",
    "    \n",
    "    #nome dell'artista\n",
    "    artist_name = spotify.artist(artist_id)['name']\n",
    "    \n",
    "    dict_feat = {}\n",
    "    \n",
    "    for i in album_uri:\n",
    "        results = spotify.album_tracks(i)\n",
    "        for tracks in results['items']:\n",
    "            for b in tracks['artists']:\n",
    "                if(b['name'] != artist_name):\n",
    "                    if b['name'] in dict_feat.keys():\n",
    "                        dict_feat[b['name']] += 1\n",
    "                    else:\n",
    "                        dict_feat[b['name']] = 1\n",
    "                        \n",
    "    dict_feat = dict(sorted(dict_feat.items(), key=lambda item: item[1]))\n",
    "    \n",
    "    return dict_feat, artist_name"
   ]
  },
  {
   "cell_type": "code",
   "execution_count": 6,
   "id": "c3a50c4c",
   "metadata": {},
   "outputs": [],
   "source": [
    "def featuring(artist_id):\n",
    "    album_uri = []\n",
    "    all_albums = spotify.artist_albums(artist_id, album_type='album')\n",
    "    \n",
    "    #uri delle vari album\n",
    "    for album in all_albums['items']:\n",
    "        album_uri.append(album['uri'])\n",
    "    \n",
    "    #nome dell'artista\n",
    "    artist_name = spotify.artist(artist_id)['name']\n",
    "    \n",
    "    dict_feat = {}\n",
    "    \n",
    "    for i in album_uri:\n",
    "        results = spotify.album_tracks(i)\n",
    "        for tracks in results['items']:\n",
    "            for b in tracks['artists']:\n",
    "                if(b['name'] != artist_name):\n",
    "                    if b['name'] in dict_feat.keys():\n",
    "                        dict_feat[b['name']] += 1\n",
    "                    else:\n",
    "                        dict_feat[b['name']] = 1\n",
    "                        \n",
    "    dict_feat = dict(sorted(dict_feat.items(), key=lambda item: item[1]))\n",
    "    \n",
    "    return dict_feat, artist_name"
   ]
  },
  {
   "cell_type": "code",
   "execution_count": 3,
   "id": "00340593",
   "metadata": {},
   "outputs": [],
   "source": [
    "def appears_on_album(artist_id):\n",
    "    \n",
    "    appear_feat = {}\n",
    "\n",
    "    all_album = spotify.artist_albums(artist_id, album_type='appears_on', limit = 50)\n",
    "    for album in all_album['items']:\n",
    "        if(album['album_type'] == 'album'):\n",
    "            if album['artists'][0]['name'] in appear_feat.keys():\n",
    "                appear_feat[album['artists'][0]['name']] += 1\n",
    "            else:\n",
    "                appear_feat[album['artists'][0]['name']] = 1\n",
    "            \n",
    "    return appear_feat\n"
   ]
  },
  {
   "cell_type": "code",
   "execution_count": 2,
   "id": "19d40ca0",
   "metadata": {},
   "outputs": [],
   "source": [
    "def plot_histo(voc, dimension):\n",
    "    plt.rcdefaults()\n",
    "    fig, ax = plt.subplots(figsize = dimension)\n",
    "\n",
    "# Example data\n",
    "    y_pos = np.arange(len(list(voc[0].keys())))\n",
    "    ax.barh(y_pos, voc[0].values(), align='center', color = 'green')\n",
    "    ax.set_yticks(y_pos, labels=list(voc[0].keys()))\n",
    "    ax.invert_yaxis()  # labels read top-to-bottom\n",
    "    ax.set_xlabel('Number of feats')\n",
    "    ax.set_title(voc[1] + ' ' + 'feats')"
   ]
  }
 ],
 "metadata": {
  "kernelspec": {
   "display_name": "Python 3 (ipykernel)",
   "language": "python",
   "name": "python3"
  },
  "language_info": {
   "codemirror_mode": {
    "name": "ipython",
    "version": 3
   },
   "file_extension": ".py",
   "mimetype": "text/x-python",
   "name": "python",
   "nbconvert_exporter": "python",
   "pygments_lexer": "ipython3",
   "version": "3.9.7"
  }
 },
 "nbformat": 4,
 "nbformat_minor": 5
}
